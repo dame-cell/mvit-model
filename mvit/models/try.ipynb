{
 "cells": [
  {
   "cell_type": "code",
   "execution_count": 1,
   "metadata": {},
   "outputs": [
    {
     "name": "stdout",
     "output_type": "stream",
     "text": [
      "--2024-09-14 05:52:11--  https://dl.fbaipublicfiles.com/mvit/mvitv2_models/MViTv2_T_in1k.pyth\n",
      "Resolving dl.fbaipublicfiles.com (dl.fbaipublicfiles.com)... 13.249.39.6, 13.249.39.25, 13.249.39.89, ...\n",
      "Connecting to dl.fbaipublicfiles.com (dl.fbaipublicfiles.com)|13.249.39.6|:443... connected.\n",
      "HTTP request sent, awaiting response... 200 OK\n",
      "Length: 290305429 (277M) [binary/octet-stream]\n",
      "Saving to: ‘MViTv2_T_in1k.pyth’\n",
      "\n",
      "MViTv2_T_in1k.pyth  100%[===================>] 276.86M  30.8MB/s    in 9.5s    \n",
      "\n",
      "2024-09-14 05:52:21 (29.2 MB/s) - ‘MViTv2_T_in1k.pyth’ saved [290305429/290305429]\n",
      "\n"
     ]
    }
   ],
   "source": [
    "!wget https://dl.fbaipublicfiles.com/mvit/mvitv2_models/MViTv2_T_in1k.pyth"
   ]
  },
  {
   "cell_type": "code",
   "execution_count": null,
   "metadata": {},
   "outputs": [],
   "source": []
  }
 ],
 "metadata": {
  "language_info": {
   "name": "python"
  }
 },
 "nbformat": 4,
 "nbformat_minor": 2
}
